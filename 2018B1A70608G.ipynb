{
 "cells": [
  {
   "cell_type": "code",
   "execution_count": 4,
   "metadata": {},
   "outputs": [],
   "source": [
    "from PIL import Image\n",
    "import numpy as np"
   ]
  },
  {
   "cell_type": "code",
   "execution_count": 30,
   "metadata": {},
   "outputs": [],
   "source": [
    "img = np.array(Image.open('81KA4Aty8xL._SL1000_.jpg'))"
   ]
  },
  {
   "cell_type": "code",
   "execution_count": 38,
   "metadata": {},
   "outputs": [
    {
     "data": {
      "text/plain": [
       "array([[[119, 133, 107],\n",
       "        [119, 134, 105],\n",
       "        [ 99, 119,  84],\n",
       "        ..., \n",
       "        [ 65,  60,  82],\n",
       "        [ 73,  68,  91],\n",
       "        [ 60,  54,  80]],\n",
       "\n",
       "       [[118, 132, 106],\n",
       "        [118, 133, 104],\n",
       "        [105, 124,  92],\n",
       "        ..., \n",
       "        [ 63,  59,  76],\n",
       "        [ 68,  63,  83],\n",
       "        [ 62,  57,  79]],\n",
       "\n",
       "       [[119, 134, 105],\n",
       "        [117, 132, 103],\n",
       "        [112, 131,  99],\n",
       "        ..., \n",
       "        [ 47,  45,  58],\n",
       "        [ 46,  44,  58],\n",
       "        [ 45,  42,  59]],\n",
       "\n",
       "       ..., \n",
       "       [[172, 210, 171],\n",
       "        [169, 212, 169],\n",
       "        [167, 214, 168],\n",
       "        ..., \n",
       "        [ 36,  36,  26],\n",
       "        [ 35,  35,  25],\n",
       "        [ 35,  35,  25]],\n",
       "\n",
       "       [[166, 204, 155],\n",
       "        [173, 213, 163],\n",
       "        [179, 223, 170],\n",
       "        ..., \n",
       "        [ 36,  36,  26],\n",
       "        [ 35,  35,  25],\n",
       "        [ 35,  35,  25]],\n",
       "\n",
       "       [[179, 218, 163],\n",
       "        [179, 220, 164],\n",
       "        [178, 223, 166],\n",
       "        ..., \n",
       "        [ 36,  36,  26],\n",
       "        [ 35,  35,  25],\n",
       "        [ 35,  35,  25]]], dtype=uint8)"
      ]
     },
     "execution_count": 38,
     "metadata": {},
     "output_type": "execute_result"
    }
   ],
   "source": [
    "img"
   ]
  },
  {
   "cell_type": "code",
   "execution_count": 31,
   "metadata": {},
   "outputs": [
    {
     "data": {
      "text/plain": [
       "136"
      ]
     },
     "execution_count": 31,
     "metadata": {},
     "output_type": "execute_result"
    }
   ],
   "source": [
    "k = img.reshape(1,-1)\n",
    "k[0][0]"
   ]
  },
  {
   "cell_type": "code",
   "execution_count": 32,
   "metadata": {},
   "outputs": [],
   "source": [
    "for i in range(len(k[0])):\n",
    "    k[0][i] = 255 - k[0][i]"
   ]
  },
  {
   "cell_type": "code",
   "execution_count": 34,
   "metadata": {},
   "outputs": [],
   "source": [
    "l = k.reshape(1000,1000,3)"
   ]
  },
  {
   "cell_type": "code",
   "execution_count": 37,
   "metadata": {},
   "outputs": [],
   "source": [
    "pil_img = Image.fromarray(l)\n",
    "pil_img.save('invert.png')"
   ]
  },
  {
   "cell_type": "code",
   "execution_count": null,
   "metadata": {},
   "outputs": [],
   "source": []
  }
 ],
 "metadata": {
  "kernelspec": {
   "display_name": "Python 3",
   "language": "python",
   "name": "python3"
  },
  "language_info": {
   "codemirror_mode": {
    "name": "ipython",
    "version": 3
   },
   "file_extension": ".py",
   "mimetype": "text/x-python",
   "name": "python",
   "nbconvert_exporter": "python",
   "pygments_lexer": "ipython3",
   "version": "3.6.9"
  }
 },
 "nbformat": 4,
 "nbformat_minor": 2
}
